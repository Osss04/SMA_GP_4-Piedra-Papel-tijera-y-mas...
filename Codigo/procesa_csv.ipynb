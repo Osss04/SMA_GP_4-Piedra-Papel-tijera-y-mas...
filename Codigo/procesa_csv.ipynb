{
 "cells": [
  {
   "cell_type": "code",
   "execution_count": 1,
   "metadata": {},
   "outputs": [],
   "source": [
    "#pip install tabulate\n",
    "from tabulate import tabulate"
   ]
  },
  {
   "cell_type": "code",
   "execution_count": 6,
   "metadata": {},
   "outputs": [
    {
     "name": "stdout",
     "output_type": "stream",
     "text": [
      "╒════╤═════════════════════╤═══════════════╤══════════╤═══════════════════════════════════╕\n",
      "│    │ Time                │ Origen_ip     │   Puerto │ Mensaje                           │\n",
      "╞════╪═════════════════════╪═══════════════╪══════════╪═══════════════════════════════════╡\n",
      "│  0 │ 2024-11-14 07:55:22 │ 192.168.1.147 │    55383 │ [192.168.1.147 : 55383] --> hola] │\n",
      "├────┼─────────────────────┼───────────────┼──────────┼───────────────────────────────────┤\n",
      "│  1 │ 2024-11-14 07:55:34 │ 192.168.1.147 │    55388 │ [192.168.1.147 : 55388] --> hola] │\n",
      "├────┼─────────────────────┼───────────────┼──────────┼───────────────────────────────────┤\n",
      "│  2 │ 2024-11-14 07:55:50 │ 192.168.1.147 │    55395 │ [192.168.1.147 : 55395] --> hola] │\n",
      "╘════╧═════════════════════╧═══════════════╧══════════╧═══════════════════════════════════╛\n"
     ]
    }
   ],
   "source": [
    "import pandas as pd\n",
    "\n",
    "data = pd.read_csv(\"monitor_logs.csv\")\n",
    "\n",
    "print(tabulate(data, headers='keys', tablefmt='fancy_grid'))  # Usar un formato de tabla bonito"
   ]
  }
 ],
 "metadata": {
  "kernelspec": {
   "display_name": "Python 3",
   "language": "python",
   "name": "python3"
  },
  "language_info": {
   "codemirror_mode": {
    "name": "ipython",
    "version": 3
   },
   "file_extension": ".py",
   "mimetype": "text/x-python",
   "name": "python",
   "nbconvert_exporter": "python",
   "pygments_lexer": "ipython3",
   "version": "3.11.1"
  }
 },
 "nbformat": 4,
 "nbformat_minor": 2
}
