{
 "cells": [
  {
   "cell_type": "code",
   "execution_count": 1,
   "metadata": {},
   "outputs": [],
   "source": [
    "#pip install tabulate\n",
    "from tabulate import tabulate"
   ]
  },
  {
   "cell_type": "code",
   "execution_count": 2,
   "metadata": {},
   "outputs": [
    {
     "name": "stdout",
     "output_type": "stream",
     "text": [
      "╒════╤═════════════════════╤═══════════════╤════════╤════════════════════════════════════╕\n",
      "│    │ Time                │ IP            │   Port │ Msg                                │\n",
      "╞════╪═════════════════════╪═══════════════╪════════╪════════════════════════════════════╡\n",
      "│  0 │ 2024-11-01 10:47:36 │ 192.168.56.1  │  51709 │ Hola soy el agente del puerto 4000 │\n",
      "├────┼─────────────────────┼───────────────┼────────┼────────────────────────────────────┤\n",
      "│  1 │ 2024-11-01 10:48:40 │ 192.168.56.1  │  51868 │ Hola soy el agente del puerto 4000 │\n",
      "├────┼─────────────────────┼───────────────┼────────┼────────────────────────────────────┤\n",
      "│  2 │ 2024-11-01 11:00:33 │ 192.168.56.1  │  51892 │ Hola soy el agente del puerto 4000 │\n",
      "├────┼─────────────────────┼───────────────┼────────┼────────────────────────────────────┤\n",
      "│  3 │ 2024-11-13 13:08:02 │ 172.19.184.84 │  50942 │ Hola soy el agente del puerto 4000 │\n",
      "├────┼─────────────────────┼───────────────┼────────┼────────────────────────────────────┤\n",
      "│  4 │ 2024-11-13 14:56:20 │ 192.168.1.147 │  59007 │ Hola soy el agente del puerto 4000 │\n",
      "╘════╧═════════════════════╧═══════════════╧════════╧════════════════════════════════════╛\n"
     ]
    },
    {
     "name": "stderr",
     "output_type": "stream",
     "text": [
      "C:\\Users\\OSCAR\\AppData\\Local\\Temp\\ipykernel_12480\\1979988999.py:1: DeprecationWarning: \n",
      "Pyarrow will become a required dependency of pandas in the next major release of pandas (pandas 3.0),\n",
      "(to allow more performant data types, such as the Arrow string type, and better interoperability with other libraries)\n",
      "but was not found to be installed on your system.\n",
      "If this would cause problems for you,\n",
      "please provide us feedback at https://github.com/pandas-dev/pandas/issues/54466\n",
      "        \n",
      "  import pandas as pd\n"
     ]
    }
   ],
   "source": [
    "import pandas as pd\n",
    "\n",
    "data = pd.read_csv(\"monitor_logs.csv\")\n",
    "\n",
    "print(tabulate(data, headers='keys', tablefmt='fancy_grid'))  # Usar un formato de tabla bonito"
   ]
  }
 ],
 "metadata": {
  "kernelspec": {
   "display_name": "Python 3",
   "language": "python",
   "name": "python3"
  },
  "language_info": {
   "codemirror_mode": {
    "name": "ipython",
    "version": 3
   },
   "file_extension": ".py",
   "mimetype": "text/x-python",
   "name": "python",
   "nbconvert_exporter": "python",
   "pygments_lexer": "ipython3",
   "version": "3.11.1"
  }
 },
 "nbformat": 4,
 "nbformat_minor": 2
}
