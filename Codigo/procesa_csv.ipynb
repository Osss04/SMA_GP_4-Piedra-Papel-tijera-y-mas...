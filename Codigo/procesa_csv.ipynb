{
 "cells": [
  {
   "cell_type": "code",
   "execution_count": 5,
   "metadata": {},
   "outputs": [],
   "source": [
    "#pip install tabulate\n",
    "from tabulate import tabulate"
   ]
  },
  {
   "cell_type": "code",
   "execution_count": 4,
   "metadata": {},
   "outputs": [
    {
     "name": "stdout",
     "output_type": "stream",
     "text": [
      "╒════╤═════════════════════╤══════════════╤════════╤════════════════════════════════════╕\n",
      "│    │ Time                │ IP           │   Port │ Msg                                │\n",
      "╞════╪═════════════════════╪══════════════╪════════╪════════════════════════════════════╡\n",
      "│  0 │ 2024-11-01 10:47:36 │ 192.168.56.1 │  51709 │ Hola soy el agente del puerto 4000 │\n",
      "├────┼─────────────────────┼──────────────┼────────┼────────────────────────────────────┤\n",
      "│  1 │ 2024-11-01 10:48:40 │ 192.168.56.1 │  51868 │ Hola soy el agente del puerto 4000 │\n",
      "╘════╧═════════════════════╧══════════════╧════════╧════════════════════════════════════╛\n"
     ]
    }
   ],
   "source": [
    "import pandas as pd\n",
    "\n",
    "data = pd.read_csv(\"monitor_logs.csv\")\n",
    "\n",
    "print(tabulate(data, headers='keys', tablefmt='fancy_grid'))  # Usar un formato de tabla bonito"
   ]
  }
 ],
 "metadata": {
  "kernelspec": {
   "display_name": "Python 3",
   "language": "python",
   "name": "python3"
  },
  "language_info": {
   "codemirror_mode": {
    "name": "ipython",
    "version": 3
   },
   "file_extension": ".py",
   "mimetype": "text/x-python",
   "name": "python",
   "nbconvert_exporter": "python",
   "pygments_lexer": "ipython3",
   "version": "3.11.1"
  }
 },
 "nbformat": 4,
 "nbformat_minor": 2
}
